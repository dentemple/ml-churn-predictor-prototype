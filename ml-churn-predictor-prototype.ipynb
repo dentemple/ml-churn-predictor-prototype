{
 "cells": [
  {
   "cell_type": "markdown",
   "metadata": {},
   "source": [
    "# Machine Learning Algorithms for Predicting Client Churn (Prototype)\n",
    "\n",
    "> Disclaimer: The data presented here is sensitive and for internal use only\n",
    "\n",
    "TODO: Description\n",
    "\n",
    "## How To\n",
    "\n",
    "## Technologies\n",
    "\n",
    "- Jupyter Notebooks\n",
    "- Python3\n",
    "  - Pandas\n",
    " \n",
    "## Calculate"
   ]
  },
  {
   "cell_type": "markdown",
   "metadata": {},
   "source": [
    "### Libraries"
   ]
  },
  {
   "cell_type": "code",
   "execution_count": 1,
   "metadata": {},
   "outputs": [],
   "source": [
    "import pandas as pd"
   ]
  },
  {
   "cell_type": "code",
   "execution_count": 2,
   "metadata": {},
   "outputs": [
    {
     "name": "stdout",
     "output_type": "stream",
     "text": [
      "Requirement already satisfied: scipy in /Users/dennytemple/dev/_env/data/lib/python3.7/site-packages (1.3.3)\r\n",
      "Requirement already satisfied: numpy>=1.13.3 in /Users/dennytemple/dev/_env/data/lib/python3.7/site-packages (from scipy) (1.17.4)\r\n"
     ]
    }
   ],
   "source": [
    "!pip install scipy"
   ]
  },
  {
   "cell_type": "code",
   "execution_count": 3,
   "metadata": {},
   "outputs": [
    {
     "name": "stdout",
     "output_type": "stream",
     "text": [
      "Requirement already satisfied: sklearn in /Users/dennytemple/dev/_env/data/lib/python3.7/site-packages (0.0)\n",
      "Requirement already satisfied: scikit-learn in /Users/dennytemple/dev/_env/data/lib/python3.7/site-packages (from sklearn) (0.21.3)\n",
      "Requirement already satisfied: numpy>=1.11.0 in /Users/dennytemple/dev/_env/data/lib/python3.7/site-packages (from scikit-learn->sklearn) (1.17.4)\n",
      "Requirement already satisfied: joblib>=0.11 in /Users/dennytemple/dev/_env/data/lib/python3.7/site-packages (from scikit-learn->sklearn) (0.14.0)\n",
      "Requirement already satisfied: scipy>=0.17.0 in /Users/dennytemple/dev/_env/data/lib/python3.7/site-packages (from scikit-learn->sklearn) (1.3.3)\n"
     ]
    }
   ],
   "source": [
    "!pip install sklearn"
   ]
  },
  {
   "cell_type": "code",
   "execution_count": 4,
   "metadata": {},
   "outputs": [],
   "source": [
    "from sklearn import preprocessing"
   ]
  },
  {
   "cell_type": "markdown",
   "metadata": {},
   "source": [
    "### Data"
   ]
  },
  {
   "cell_type": "markdown",
   "metadata": {},
   "source": [
    "#### Raw Data"
   ]
  },
  {
   "cell_type": "code",
   "execution_count": 5,
   "metadata": {},
   "outputs": [],
   "source": [
    "raw_data = pd.read_csv('./datasets/sample-raw-data.csv')"
   ]
  },
  {
   "cell_type": "markdown",
   "metadata": {},
   "source": [
    "The raw data needs to be \"cleaned\" before a machine learning algorithm can be performed on it. MUST HAVE steps to be taken are\n",
    "\n",
    "- Concatenate data based on each unique client\n",
    "- Remove columns that are clearly not great features choices\n",
    "\n",
    "Further steps that can be taken:\n",
    "\n",
    "- Separate \"cohorts\" based on purchase date, or normalize older and newer clients versus each other\n",
    "  - Explanation: Because we're trying to predict the likelihood of cancellation, newer clients will naturally (and mistakenly) appear to cancel at a lower rate than older clients; this is because older clients have been given more \"opportunity\" to cancel\n",
    "- Convert dates to a simple scalar value\n",
    "- Convert location addresses to scalar or vector values; i.e., avoid (or be explicit about) basing the prediction on simple population density\n",
    "- Normalize each scalar value"
   ]
  },
  {
   "cell_type": "code",
   "execution_count": 6,
   "metadata": {},
   "outputs": [
    {
     "data": {
      "text/html": [
       "<div>\n",
       "<style scoped>\n",
       "    .dataframe tbody tr th:only-of-type {\n",
       "        vertical-align: middle;\n",
       "    }\n",
       "\n",
       "    .dataframe tbody tr th {\n",
       "        vertical-align: top;\n",
       "    }\n",
       "\n",
       "    .dataframe thead th {\n",
       "        text-align: right;\n",
       "    }\n",
       "</style>\n",
       "<table border=\"1\" class=\"dataframe\">\n",
       "  <thead>\n",
       "    <tr style=\"text-align: right;\">\n",
       "      <th></th>\n",
       "      <th>CHURN_DATE</th>\n",
       "      <th>HEALTH_SCORE</th>\n",
       "      <th>HEALTH_SCORE_UPDATED_DATE</th>\n",
       "      <th>RELATIONSHIP_STRENGTH</th>\n",
       "      <th>SENTIMENT</th>\n",
       "      <th>LAST_ZENDESK_TICKET_DATE</th>\n",
       "      <th>NPS_SCORE</th>\n",
       "      <th>NPS_SCORE_DATE</th>\n",
       "      <th>LAST_LOGIN</th>\n",
       "      <th>IS_EDITED</th>\n",
       "      <th>...</th>\n",
       "      <th>LAUNCH_DATE</th>\n",
       "      <th>PAYMENT_PLAN</th>\n",
       "      <th>FREQUENCY</th>\n",
       "      <th>SUBSCRIPTION_ID</th>\n",
       "      <th>SUBSCRIPTION_ITEM_ID</th>\n",
       "      <th>PRODUCT_ID</th>\n",
       "      <th>PRODUCT_QUANTITY</th>\n",
       "      <th>PRODUCT_PRICE</th>\n",
       "      <th>START_DATE</th>\n",
       "      <th>END_DATE</th>\n",
       "    </tr>\n",
       "  </thead>\n",
       "  <tbody>\n",
       "    <tr>\n",
       "      <th>0</th>\n",
       "      <td>NaN</td>\n",
       "      <td>73.0</td>\n",
       "      <td>2019-11-08 00:31:00.000 +0000</td>\n",
       "      <td>Good</td>\n",
       "      <td>neutral</td>\n",
       "      <td>2019-11-05 19:54:48.000 +0000</td>\n",
       "      <td>10.0</td>\n",
       "      <td>2019-04-29 04:00:00.000 +0000</td>\n",
       "      <td>2019-11-18 05:00:00.000 +0000</td>\n",
       "      <td>True</td>\n",
       "      <td>...</td>\n",
       "      <td>2019-04-15 00:00:00.000 +0000</td>\n",
       "      <td>Monthly</td>\n",
       "      <td>Monthly</td>\n",
       "      <td>sub_E3cpvGPbhWYXL9</td>\n",
       "      <td>si_E3cpsucoXGLgRq</td>\n",
       "      <td>addon_catering_store_monthly</td>\n",
       "      <td>1</td>\n",
       "      <td>139.0</td>\n",
       "      <td>2018-11-28 16:07:31.000 +0000</td>\n",
       "      <td>NaN</td>\n",
       "    </tr>\n",
       "    <tr>\n",
       "      <th>1</th>\n",
       "      <td>NaN</td>\n",
       "      <td>73.0</td>\n",
       "      <td>2019-11-08 00:31:00.000 +0000</td>\n",
       "      <td>Good</td>\n",
       "      <td>neutral</td>\n",
       "      <td>2019-11-05 19:54:48.000 +0000</td>\n",
       "      <td>10.0</td>\n",
       "      <td>2019-04-29 04:00:00.000 +0000</td>\n",
       "      <td>2019-11-18 05:00:00.000 +0000</td>\n",
       "      <td>True</td>\n",
       "      <td>...</td>\n",
       "      <td>2019-04-15 00:00:00.000 +0000</td>\n",
       "      <td>Monthly</td>\n",
       "      <td>Monthly</td>\n",
       "      <td>sub_E3cpvGPbhWYXL9</td>\n",
       "      <td>si_E3cpSjCw4yRknW</td>\n",
       "      <td>base_plus_monthly</td>\n",
       "      <td>1</td>\n",
       "      <td>199.0</td>\n",
       "      <td>2018-11-28 16:07:31.000 +0000</td>\n",
       "      <td>NaN</td>\n",
       "    </tr>\n",
       "    <tr>\n",
       "      <th>2</th>\n",
       "      <td>NaN</td>\n",
       "      <td>50.0</td>\n",
       "      <td>2019-11-08 00:31:00.000 +0000</td>\n",
       "      <td>Neutral</td>\n",
       "      <td>NaN</td>\n",
       "      <td>NaN</td>\n",
       "      <td>NaN</td>\n",
       "      <td>NaN</td>\n",
       "      <td>2019-11-18 05:00:00.000 +0000</td>\n",
       "      <td>False</td>\n",
       "      <td>...</td>\n",
       "      <td>2016-10-31 00:00:00.000 +0000</td>\n",
       "      <td>Monthly</td>\n",
       "      <td>Monthly</td>\n",
       "      <td>sub_9OtLNjGdGik2ge</td>\n",
       "      <td>si_FkYuZKZWOAhqdC</td>\n",
       "      <td>base_plus_monthly</td>\n",
       "      <td>1</td>\n",
       "      <td>199.0</td>\n",
       "      <td>2019-09-04 19:05:07.000 +0000</td>\n",
       "      <td>NaN</td>\n",
       "    </tr>\n",
       "    <tr>\n",
       "      <th>3</th>\n",
       "      <td>NaN</td>\n",
       "      <td>50.0</td>\n",
       "      <td>2019-11-08 00:31:00.000 +0000</td>\n",
       "      <td>Neutral</td>\n",
       "      <td>NaN</td>\n",
       "      <td>NaN</td>\n",
       "      <td>NaN</td>\n",
       "      <td>NaN</td>\n",
       "      <td>2019-11-18 05:00:00.000 +0000</td>\n",
       "      <td>False</td>\n",
       "      <td>...</td>\n",
       "      <td>2016-10-31 00:00:00.000 +0000</td>\n",
       "      <td>Monthly</td>\n",
       "      <td>Monthly</td>\n",
       "      <td>sub_9OtLNjGdGik2ge</td>\n",
       "      <td>si_1965Ys2vS2BuzRKbWsoEErwQ</td>\n",
       "      <td>baby</td>\n",
       "      <td>1</td>\n",
       "      <td>99.0</td>\n",
       "      <td>2016-10-18 21:55:55.000 +0000</td>\n",
       "      <td>2019-09-18 21:55:54.000 -0700</td>\n",
       "    </tr>\n",
       "    <tr>\n",
       "      <th>4</th>\n",
       "      <td>NaN</td>\n",
       "      <td>86.0</td>\n",
       "      <td>2019-11-08 00:31:00.000 +0000</td>\n",
       "      <td>Good</td>\n",
       "      <td>neutral</td>\n",
       "      <td>2019-07-29 17:01:59.000 +0000</td>\n",
       "      <td>NaN</td>\n",
       "      <td>NaN</td>\n",
       "      <td>2019-07-24 04:00:00.000 +0000</td>\n",
       "      <td>True</td>\n",
       "      <td>...</td>\n",
       "      <td>2017-10-24 00:00:00.000 +0000</td>\n",
       "      <td>Monthly</td>\n",
       "      <td>Monthly</td>\n",
       "      <td>sub_BGEa6oquQ3Wrhh</td>\n",
       "      <td>si_1Ati6w2vS2BuzRKbP1djq3kT</td>\n",
       "      <td>plus</td>\n",
       "      <td>1</td>\n",
       "      <td>199.0</td>\n",
       "      <td>2017-08-22 19:32:26.000 +0000</td>\n",
       "      <td>NaN</td>\n",
       "    </tr>\n",
       "  </tbody>\n",
       "</table>\n",
       "<p>5 rows × 46 columns</p>\n",
       "</div>"
      ],
      "text/plain": [
       "  CHURN_DATE  HEALTH_SCORE      HEALTH_SCORE_UPDATED_DATE  \\\n",
       "0        NaN          73.0  2019-11-08 00:31:00.000 +0000   \n",
       "1        NaN          73.0  2019-11-08 00:31:00.000 +0000   \n",
       "2        NaN          50.0  2019-11-08 00:31:00.000 +0000   \n",
       "3        NaN          50.0  2019-11-08 00:31:00.000 +0000   \n",
       "4        NaN          86.0  2019-11-08 00:31:00.000 +0000   \n",
       "\n",
       "  RELATIONSHIP_STRENGTH SENTIMENT       LAST_ZENDESK_TICKET_DATE  NPS_SCORE  \\\n",
       "0                  Good   neutral  2019-11-05 19:54:48.000 +0000       10.0   \n",
       "1                  Good   neutral  2019-11-05 19:54:48.000 +0000       10.0   \n",
       "2               Neutral       NaN                            NaN        NaN   \n",
       "3               Neutral       NaN                            NaN        NaN   \n",
       "4                  Good   neutral  2019-07-29 17:01:59.000 +0000        NaN   \n",
       "\n",
       "                  NPS_SCORE_DATE                     LAST_LOGIN  IS_EDITED  \\\n",
       "0  2019-04-29 04:00:00.000 +0000  2019-11-18 05:00:00.000 +0000       True   \n",
       "1  2019-04-29 04:00:00.000 +0000  2019-11-18 05:00:00.000 +0000       True   \n",
       "2                            NaN  2019-11-18 05:00:00.000 +0000      False   \n",
       "3                            NaN  2019-11-18 05:00:00.000 +0000      False   \n",
       "4                            NaN  2019-07-24 04:00:00.000 +0000       True   \n",
       "\n",
       "   ...                    LAUNCH_DATE  PAYMENT_PLAN  FREQUENCY  \\\n",
       "0  ...  2019-04-15 00:00:00.000 +0000       Monthly    Monthly   \n",
       "1  ...  2019-04-15 00:00:00.000 +0000       Monthly    Monthly   \n",
       "2  ...  2016-10-31 00:00:00.000 +0000       Monthly    Monthly   \n",
       "3  ...  2016-10-31 00:00:00.000 +0000       Monthly    Monthly   \n",
       "4  ...  2017-10-24 00:00:00.000 +0000       Monthly    Monthly   \n",
       "\n",
       "      SUBSCRIPTION_ID         SUBSCRIPTION_ITEM_ID  \\\n",
       "0  sub_E3cpvGPbhWYXL9            si_E3cpsucoXGLgRq   \n",
       "1  sub_E3cpvGPbhWYXL9            si_E3cpSjCw4yRknW   \n",
       "2  sub_9OtLNjGdGik2ge            si_FkYuZKZWOAhqdC   \n",
       "3  sub_9OtLNjGdGik2ge  si_1965Ys2vS2BuzRKbWsoEErwQ   \n",
       "4  sub_BGEa6oquQ3Wrhh  si_1Ati6w2vS2BuzRKbP1djq3kT   \n",
       "\n",
       "                     PRODUCT_ID PRODUCT_QUANTITY PRODUCT_PRICE  \\\n",
       "0  addon_catering_store_monthly                1         139.0   \n",
       "1             base_plus_monthly                1         199.0   \n",
       "2             base_plus_monthly                1         199.0   \n",
       "3                          baby                1          99.0   \n",
       "4                          plus                1         199.0   \n",
       "\n",
       "                      START_DATE                       END_DATE  \n",
       "0  2018-11-28 16:07:31.000 +0000                            NaN  \n",
       "1  2018-11-28 16:07:31.000 +0000                            NaN  \n",
       "2  2019-09-04 19:05:07.000 +0000                            NaN  \n",
       "3  2016-10-18 21:55:55.000 +0000  2019-09-18 21:55:54.000 -0700  \n",
       "4  2017-08-22 19:32:26.000 +0000                            NaN  \n",
       "\n",
       "[5 rows x 46 columns]"
      ]
     },
     "execution_count": 6,
     "metadata": {},
     "output_type": "execute_result"
    }
   ],
   "source": [
    "# Current \"dirty\" data\n",
    "raw_data.head(5)"
   ]
  },
  {
   "cell_type": "code",
   "execution_count": 7,
   "metadata": {},
   "outputs": [
    {
     "data": {
      "text/plain": [
       "CHURN_DATE                           160\n",
       "HEALTH_SCORE                        4538\n",
       "HEALTH_SCORE_UPDATED_DATE           4875\n",
       "RELATIONSHIP_STRENGTH               4993\n",
       "SENTIMENT                           1778\n",
       "LAST_ZENDESK_TICKET_DATE            2404\n",
       "NPS_SCORE                            950\n",
       "NPS_SCORE_DATE                       942\n",
       "LAST_LOGIN                          4919\n",
       "IS_EDITED                           5814\n",
       "IS_DELINQUENT                       5814\n",
       "IS_CONCEPT                          5814\n",
       "NUMBER_OF_CONCEPTS                  2442\n",
       "NUMBER_OF_LOCATIONS                 5636\n",
       "ANNUAL_REVENUE                      4954\n",
       "ANNUAL_HOSPITALITY_GROUP_REVENUE    5814\n",
       "PARTNERSHIP                         1878\n",
       "BILLING_CITY                        5795\n",
       "BILLING_COUNTRY                     5810\n",
       "BILLING_STATE                       5777\n",
       "BUSINESS_MARKET                     4115\n",
       "BUSINESS_TYPE                       5793\n",
       "SERVICE_STYLE                       5790\n",
       "NEW_OR_EXISTING                     5790\n",
       "CUISINE                             5792\n",
       "INTERESTED_IN_CATERING_STORE        5814\n",
       "INTERESTED_IN_ECOMMERCE             5814\n",
       "INTERESTED_IN_GIFT_CARDS            5814\n",
       "INTERESTED_IN_MENU_MANAGEMENT       5814\n",
       "INTERESTED_IN_MOBILE_WEB            5814\n",
       "INTERESTED_IN_SEO                   5814\n",
       "CREATED_DATE                        5814\n",
       "CUSTOMER_SINCE                      5804\n",
       "CUSTOMER_WON_DATE                   5804\n",
       "DATE_OF_FIRST_OPPORTUNITY           5814\n",
       "LAST_EDIT                           4185\n",
       "LAUNCH_DATE                         4644\n",
       "PAYMENT_PLAN                        5531\n",
       "FREQUENCY                           5814\n",
       "SUBSCRIPTION_ID                     5814\n",
       "SUBSCRIPTION_ITEM_ID                5804\n",
       "PRODUCT_ID                          5814\n",
       "PRODUCT_QUANTITY                    5814\n",
       "PRODUCT_PRICE                       5814\n",
       "START_DATE                          5814\n",
       "END_DATE                             406\n",
       "dtype: int64"
      ]
     },
     "execution_count": 7,
     "metadata": {},
     "output_type": "execute_result"
    }
   ],
   "source": [
    "raw_data.count()"
   ]
  },
  {
   "cell_type": "markdown",
   "metadata": {},
   "source": [
    "#### Filtered columns\n",
    "\n",
    "The following dataset concatenates duplicate clients and filters in only the columns we'll use for prototype.\n",
    "\n",
    "In a live environment, these actions can be performed programmatically."
   ]
  },
  {
   "cell_type": "code",
   "execution_count": 8,
   "metadata": {},
   "outputs": [],
   "source": [
    "filtered_data = pd.read_csv('./datasets/sample-filtered-data.csv')"
   ]
  },
  {
   "cell_type": "code",
   "execution_count": 9,
   "metadata": {},
   "outputs": [
    {
     "data": {
      "text/html": [
       "<div>\n",
       "<style scoped>\n",
       "    .dataframe tbody tr th:only-of-type {\n",
       "        vertical-align: middle;\n",
       "    }\n",
       "\n",
       "    .dataframe tbody tr th {\n",
       "        vertical-align: top;\n",
       "    }\n",
       "\n",
       "    .dataframe thead th {\n",
       "        text-align: right;\n",
       "    }\n",
       "</style>\n",
       "<table border=\"1\" class=\"dataframe\">\n",
       "  <thead>\n",
       "    <tr style=\"text-align: right;\">\n",
       "      <th></th>\n",
       "      <th>SUBSCRIPTION_ID</th>\n",
       "      <th>RELATIONSHIP_STRENGTH</th>\n",
       "      <th>SENTIMENT</th>\n",
       "      <th>NPS_SCORE</th>\n",
       "      <th>IS_DELINQUENT</th>\n",
       "      <th>NUMBER_OF_LOCATIONS</th>\n",
       "      <th>ANNUAL_REVENUE</th>\n",
       "      <th>PARTNERSHIP</th>\n",
       "      <th>BILLING_CITY</th>\n",
       "      <th>BUSINESS_TYPE</th>\n",
       "      <th>CUISINE</th>\n",
       "      <th>PAYMENT_PLAN</th>\n",
       "      <th>CHURN_DATE</th>\n",
       "    </tr>\n",
       "  </thead>\n",
       "  <tbody>\n",
       "    <tr>\n",
       "      <th>0</th>\n",
       "      <td>sub_E3cpvGPbhWYXL9</td>\n",
       "      <td>Good</td>\n",
       "      <td>neutral</td>\n",
       "      <td>10.0</td>\n",
       "      <td>False</td>\n",
       "      <td>1.0</td>\n",
       "      <td>4056.0</td>\n",
       "      <td>NaN</td>\n",
       "      <td>Philadelphia</td>\n",
       "      <td>Restaurant</td>\n",
       "      <td>American (Traditional)</td>\n",
       "      <td>Monthly</td>\n",
       "      <td>NaN</td>\n",
       "    </tr>\n",
       "    <tr>\n",
       "      <th>1</th>\n",
       "      <td>sub_9OtLNjGdGik2ge</td>\n",
       "      <td>Neutral</td>\n",
       "      <td>NaN</td>\n",
       "      <td>NaN</td>\n",
       "      <td>False</td>\n",
       "      <td>1.0</td>\n",
       "      <td>1188.0</td>\n",
       "      <td>NaN</td>\n",
       "      <td>New York</td>\n",
       "      <td>Restaurant</td>\n",
       "      <td>American (New)</td>\n",
       "      <td>Monthly</td>\n",
       "      <td>NaN</td>\n",
       "    </tr>\n",
       "    <tr>\n",
       "      <th>2</th>\n",
       "      <td>sub_BGEa6oquQ3Wrhh</td>\n",
       "      <td>Good</td>\n",
       "      <td>neutral</td>\n",
       "      <td>NaN</td>\n",
       "      <td>False</td>\n",
       "      <td>1.0</td>\n",
       "      <td>1908.0</td>\n",
       "      <td>US Foods</td>\n",
       "      <td>South Bend</td>\n",
       "      <td>Restaurant</td>\n",
       "      <td>American (Traditional)</td>\n",
       "      <td>Monthly</td>\n",
       "      <td>NaN</td>\n",
       "    </tr>\n",
       "    <tr>\n",
       "      <th>3</th>\n",
       "      <td>sub_EtPCVOt1zlHjQj</td>\n",
       "      <td>Good</td>\n",
       "      <td>NaN</td>\n",
       "      <td>NaN</td>\n",
       "      <td>False</td>\n",
       "      <td>1.0</td>\n",
       "      <td>1188.0</td>\n",
       "      <td>US Foods</td>\n",
       "      <td>Walhalla</td>\n",
       "      <td>Restaurant</td>\n",
       "      <td>[\"Diner\",\"Sandwiches\",\"American\",\"Frozen Yogur...</td>\n",
       "      <td>NaN</td>\n",
       "      <td>NaN</td>\n",
       "    </tr>\n",
       "    <tr>\n",
       "      <th>4</th>\n",
       "      <td>sub_EWvgOoZikMZEzh</td>\n",
       "      <td>Neutral</td>\n",
       "      <td>neutral</td>\n",
       "      <td>NaN</td>\n",
       "      <td>False</td>\n",
       "      <td>3.0</td>\n",
       "      <td>2388.0</td>\n",
       "      <td>NaN</td>\n",
       "      <td>Vancouver</td>\n",
       "      <td>Restaurant</td>\n",
       "      <td>Other</td>\n",
       "      <td>Monthly</td>\n",
       "      <td>NaN</td>\n",
       "    </tr>\n",
       "  </tbody>\n",
       "</table>\n",
       "</div>"
      ],
      "text/plain": [
       "      SUBSCRIPTION_ID RELATIONSHIP_STRENGTH SENTIMENT  NPS_SCORE  \\\n",
       "0  sub_E3cpvGPbhWYXL9                  Good   neutral       10.0   \n",
       "1  sub_9OtLNjGdGik2ge               Neutral       NaN        NaN   \n",
       "2  sub_BGEa6oquQ3Wrhh                  Good   neutral        NaN   \n",
       "3  sub_EtPCVOt1zlHjQj                  Good       NaN        NaN   \n",
       "4  sub_EWvgOoZikMZEzh               Neutral   neutral        NaN   \n",
       "\n",
       "   IS_DELINQUENT  NUMBER_OF_LOCATIONS  ANNUAL_REVENUE PARTNERSHIP  \\\n",
       "0          False                  1.0          4056.0         NaN   \n",
       "1          False                  1.0          1188.0         NaN   \n",
       "2          False                  1.0          1908.0    US Foods   \n",
       "3          False                  1.0          1188.0    US Foods   \n",
       "4          False                  3.0          2388.0         NaN   \n",
       "\n",
       "   BILLING_CITY BUSINESS_TYPE  \\\n",
       "0  Philadelphia    Restaurant   \n",
       "1      New York    Restaurant   \n",
       "2    South Bend    Restaurant   \n",
       "3      Walhalla    Restaurant   \n",
       "4     Vancouver    Restaurant   \n",
       "\n",
       "                                             CUISINE PAYMENT_PLAN CHURN_DATE  \n",
       "0                             American (Traditional)      Monthly        NaN  \n",
       "1                                     American (New)      Monthly        NaN  \n",
       "2                             American (Traditional)      Monthly        NaN  \n",
       "3  [\"Diner\",\"Sandwiches\",\"American\",\"Frozen Yogur...          NaN        NaN  \n",
       "4                                              Other      Monthly        NaN  "
      ]
     },
     "execution_count": 9,
     "metadata": {},
     "output_type": "execute_result"
    }
   ],
   "source": [
    "filtered_data.head(5)"
   ]
  },
  {
   "cell_type": "code",
   "execution_count": 10,
   "metadata": {},
   "outputs": [
    {
     "data": {
      "text/plain": [
       "SUBSCRIPTION_ID          4638\n",
       "RELATIONSHIP_STRENGTH    4019\n",
       "SENTIMENT                1363\n",
       "NPS_SCORE                 731\n",
       "IS_DELINQUENT            4638\n",
       "NUMBER_OF_LOCATIONS      4498\n",
       "ANNUAL_REVENUE           3972\n",
       "PARTNERSHIP              1645\n",
       "BILLING_CITY             4621\n",
       "BUSINESS_TYPE            4621\n",
       "CUISINE                  4619\n",
       "PAYMENT_PLAN             4473\n",
       "CHURN_DATE                 96\n",
       "dtype: int64"
      ]
     },
     "execution_count": 10,
     "metadata": {},
     "output_type": "execute_result"
    }
   ],
   "source": [
    "filtered_data.count()"
   ]
  },
  {
   "cell_type": "markdown",
   "metadata": {},
   "source": [
    "#### Further cleaning"
   ]
  },
  {
   "cell_type": "code",
   "execution_count": 11,
   "metadata": {},
   "outputs": [],
   "source": [
    "current_data = pd.DataFrame(filtered_data).copy(deep=True) "
   ]
  },
  {
   "cell_type": "code",
   "execution_count": 12,
   "metadata": {},
   "outputs": [
    {
     "name": "stdout",
     "output_type": "stream",
     "text": [
      "['SUBSCRIPTION_ID' 'RELATIONSHIP_STRENGTH' 'SENTIMENT' 'NPS_SCORE'\n",
      " 'IS_DELINQUENT' 'NUMBER_OF_LOCATIONS' 'ANNUAL_REVENUE' 'PARTNERSHIP'\n",
      " 'BILLING_CITY' 'BUSINESS_TYPE' 'CUISINE' 'PAYMENT_PLAN' 'CHURN_DATE']\n"
     ]
    }
   ],
   "source": [
    "# Show column names\n",
    "print(current_data.columns.values)"
   ]
  },
  {
   "cell_type": "markdown",
   "metadata": {},
   "source": [
    "##### Handle the \"feelings\" columns"
   ]
  },
  {
   "cell_type": "code",
   "execution_count": 13,
   "metadata": {},
   "outputs": [],
   "source": [
    "def clean_string(x):\n",
    "    if isinstance(x, str):\n",
    "        return x.lower()\n",
    "    return None"
   ]
  },
  {
   "cell_type": "code",
   "execution_count": 14,
   "metadata": {},
   "outputs": [],
   "source": [
    "def handle_feelings(x):\n",
    "    cleaned = clean_string(x)\n",
    "    if cleaned == 'good' or cleaned == 'positive':\n",
    "        return 1\n",
    "    if cleaned == 'neutral':\n",
    "        return 0\n",
    "    if cleaned == 'bad' or cleaned == 'negative':\n",
    "        return -1\n",
    "    return None"
   ]
  },
  {
   "cell_type": "code",
   "execution_count": 15,
   "metadata": {},
   "outputs": [],
   "source": [
    "current_data['RELATIONSHIP_STRENGTH'] = current_data['RELATIONSHIP_STRENGTH'].apply(handle_feelings)"
   ]
  },
  {
   "cell_type": "code",
   "execution_count": 16,
   "metadata": {},
   "outputs": [],
   "source": [
    "current_data['SENTIMENT'] = current_data['SENTIMENT'].apply(handle_feelings)"
   ]
  },
  {
   "cell_type": "markdown",
   "metadata": {},
   "source": [
    "##### Normalize the scalar columns"
   ]
  },
  {
   "cell_type": "code",
   "execution_count": 17,
   "metadata": {},
   "outputs": [],
   "source": [
    "def normalize(df):\n",
    "    return (df - df.mean()) / df.std()"
   ]
  },
  {
   "cell_type": "code",
   "execution_count": 18,
   "metadata": {},
   "outputs": [],
   "source": [
    "current_data['NPS_SCORE'] = normalize(current_data['NPS_SCORE'])"
   ]
  },
  {
   "cell_type": "code",
   "execution_count": 19,
   "metadata": {},
   "outputs": [],
   "source": [
    "current_data['NUMBER_OF_LOCATIONS'] = normalize(current_data['NUMBER_OF_LOCATIONS'])"
   ]
  },
  {
   "cell_type": "code",
   "execution_count": 20,
   "metadata": {},
   "outputs": [],
   "source": [
    "current_data['ANNUAL_REVENUE'] = normalize(current_data['ANNUAL_REVENUE'])"
   ]
  },
  {
   "cell_type": "code",
   "execution_count": null,
   "metadata": {},
   "outputs": [],
   "source": []
  }
 ],
 "metadata": {
  "kernelspec": {
   "display_name": "Python 3",
   "language": "python",
   "name": "python3"
  },
  "language_info": {
   "codemirror_mode": {
    "name": "ipython",
    "version": 3
   },
   "file_extension": ".py",
   "mimetype": "text/x-python",
   "name": "python",
   "nbconvert_exporter": "python",
   "pygments_lexer": "ipython3",
   "version": "3.7.3"
  }
 },
 "nbformat": 4,
 "nbformat_minor": 2
}
