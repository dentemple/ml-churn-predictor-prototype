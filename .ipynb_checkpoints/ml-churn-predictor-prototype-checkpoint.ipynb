{
 "cells": [
  {
   "cell_type": "markdown",
   "metadata": {},
   "source": [
    "# Machine Learning Algorithms for Predicting Client Churn (Prototype)\n",
    "\n",
    "> Disclaimer: The data presented here is sensitive and for internal use only\n",
    "\n",
    "TODO: Description\n",
    "\n",
    "\n",
    "## Technologies\n",
    "---\n",
    "\n",
    "- Jupyter Notebooks\n",
    "- Python3\n",
    "  - `pandas`\n",
    "  - `sklearn`\n",
    "  - `numpy`\n",
    "  - `matplotlib`"
   ]
  },
  {
   "cell_type": "markdown",
   "metadata": {},
   "source": [
    "## Libraries\n",
    "---"
   ]
  },
  {
   "cell_type": "code",
   "execution_count": 1,
   "metadata": {},
   "outputs": [],
   "source": [
    "import pandas as pd"
   ]
  },
  {
   "cell_type": "code",
   "execution_count": 2,
   "metadata": {},
   "outputs": [],
   "source": [
    "import numpy as np"
   ]
  },
  {
   "cell_type": "code",
   "execution_count": 3,
   "metadata": {},
   "outputs": [
    {
     "name": "stdout",
     "output_type": "stream",
     "text": [
      "Requirement already satisfied: sklearn in /Users/dennytemple/dev/_env/data/lib/python3.7/site-packages (0.0)\r\n",
      "Requirement already satisfied: scikit-learn in /Users/dennytemple/dev/_env/data/lib/python3.7/site-packages (from sklearn) (0.21.3)\r\n",
      "Requirement already satisfied: joblib>=0.11 in /Users/dennytemple/dev/_env/data/lib/python3.7/site-packages (from scikit-learn->sklearn) (0.14.0)\r\n",
      "Requirement already satisfied: scipy>=0.17.0 in /Users/dennytemple/dev/_env/data/lib/python3.7/site-packages (from scikit-learn->sklearn) (1.3.3)\r\n",
      "Requirement already satisfied: numpy>=1.11.0 in /Users/dennytemple/dev/_env/data/lib/python3.7/site-packages (from scikit-learn->sklearn) (1.17.4)\r\n"
     ]
    }
   ],
   "source": [
    "!pip install sklearn"
   ]
  },
  {
   "cell_type": "code",
   "execution_count": 4,
   "metadata": {},
   "outputs": [],
   "source": [
    "import sklearn"
   ]
  },
  {
   "cell_type": "code",
   "execution_count": 5,
   "metadata": {},
   "outputs": [
    {
     "name": "stdout",
     "output_type": "stream",
     "text": [
      "Requirement already satisfied: matplotlib in /Users/dennytemple/dev/_env/data/lib/python3.7/site-packages (3.1.2)\r\n",
      "Requirement already satisfied: numpy>=1.11 in /Users/dennytemple/dev/_env/data/lib/python3.7/site-packages (from matplotlib) (1.17.4)\r\n",
      "Requirement already satisfied: pyparsing!=2.0.4,!=2.1.2,!=2.1.6,>=2.0.1 in /Users/dennytemple/dev/_env/data/lib/python3.7/site-packages (from matplotlib) (2.4.5)\r\n",
      "Requirement already satisfied: cycler>=0.10 in /Users/dennytemple/dev/_env/data/lib/python3.7/site-packages (from matplotlib) (0.10.0)\r\n",
      "Requirement already satisfied: kiwisolver>=1.0.1 in /Users/dennytemple/dev/_env/data/lib/python3.7/site-packages (from matplotlib) (1.1.0)\r\n",
      "Requirement already satisfied: python-dateutil>=2.1 in /Users/dennytemple/dev/_env/data/lib/python3.7/site-packages (from matplotlib) (2.8.1)\r\n",
      "Requirement already satisfied: six in /Users/dennytemple/dev/_env/data/lib/python3.7/site-packages (from cycler>=0.10->matplotlib) (1.13.0)\r\n",
      "Requirement already satisfied: setuptools in /Users/dennytemple/dev/_env/data/lib/python3.7/site-packages (from kiwisolver>=1.0.1->matplotlib) (40.8.0)\r\n"
     ]
    }
   ],
   "source": [
    "!pip install matplotlib"
   ]
  },
  {
   "cell_type": "code",
   "execution_count": 6,
   "metadata": {},
   "outputs": [],
   "source": [
    "import matplotlib.pyplot as plt"
   ]
  },
  {
   "cell_type": "code",
   "execution_count": 7,
   "metadata": {},
   "outputs": [],
   "source": [
    "%matplotlib inline"
   ]
  },
  {
   "cell_type": "markdown",
   "metadata": {},
   "source": [
    "## Data\n",
    "---"
   ]
  },
  {
   "cell_type": "markdown",
   "metadata": {},
   "source": [
    "### Raw Data"
   ]
  },
  {
   "cell_type": "code",
   "execution_count": 8,
   "metadata": {},
   "outputs": [],
   "source": [
    "raw_data = pd.read_csv('./datasets/sample-raw-data.csv')"
   ]
  },
  {
   "cell_type": "markdown",
   "metadata": {},
   "source": [
    "The raw data needs to be \"cleaned\" before a machine learning algorithm can be performed on it. MUST HAVE steps to be taken are\n",
    "\n",
    "- Concatenate data based on each unique client\n",
    "- Remove columns that are clearly not great features choices\n",
    "- Create \"dummy\" values for each column of strings; many ML implementations can't handle string values out-of-the-box\n",
    "\n",
    "Further steps that can be taken:\n",
    "\n",
    "- Separate \"cohorts\" based on purchase date, or normalize older and newer clients versus each other\n",
    "  - Explanation: Because we're trying to predict the likelihood of cancellation, newer clients will naturally (and mistakenly) appear to cancel at a lower rate than older clients; this is because older clients have been given more \"opportunity\" to cancel\n",
    "- Convert dates to a simple scalar value\n",
    "- Convert location addresses to scalar or vector values; i.e., avoid (or be explicit about) basing the prediction on simple population density\n",
    "- Normalize each scalar value"
   ]
  },
  {
   "cell_type": "code",
   "execution_count": 9,
   "metadata": {},
   "outputs": [
    {
     "data": {
      "text/html": [
       "<div>\n",
       "<style scoped>\n",
       "    .dataframe tbody tr th:only-of-type {\n",
       "        vertical-align: middle;\n",
       "    }\n",
       "\n",
       "    .dataframe tbody tr th {\n",
       "        vertical-align: top;\n",
       "    }\n",
       "\n",
       "    .dataframe thead th {\n",
       "        text-align: right;\n",
       "    }\n",
       "</style>\n",
       "<table border=\"1\" class=\"dataframe\">\n",
       "  <thead>\n",
       "    <tr style=\"text-align: right;\">\n",
       "      <th></th>\n",
       "      <th>CHURN_DATE</th>\n",
       "      <th>HEALTH_SCORE</th>\n",
       "      <th>HEALTH_SCORE_UPDATED_DATE</th>\n",
       "      <th>RELATIONSHIP_STRENGTH</th>\n",
       "      <th>SENTIMENT</th>\n",
       "      <th>LAST_ZENDESK_TICKET_DATE</th>\n",
       "      <th>NPS_SCORE</th>\n",
       "      <th>NPS_SCORE_DATE</th>\n",
       "      <th>LAST_LOGIN</th>\n",
       "      <th>IS_EDITED</th>\n",
       "      <th>...</th>\n",
       "      <th>LAUNCH_DATE</th>\n",
       "      <th>PAYMENT_PLAN</th>\n",
       "      <th>FREQUENCY</th>\n",
       "      <th>SUBSCRIPTION_ID</th>\n",
       "      <th>SUBSCRIPTION_ITEM_ID</th>\n",
       "      <th>PRODUCT_ID</th>\n",
       "      <th>PRODUCT_QUANTITY</th>\n",
       "      <th>PRODUCT_PRICE</th>\n",
       "      <th>START_DATE</th>\n",
       "      <th>END_DATE</th>\n",
       "    </tr>\n",
       "  </thead>\n",
       "  <tbody>\n",
       "    <tr>\n",
       "      <th>0</th>\n",
       "      <td>NaN</td>\n",
       "      <td>73.0</td>\n",
       "      <td>2019-11-08 00:31:00.000 +0000</td>\n",
       "      <td>Good</td>\n",
       "      <td>neutral</td>\n",
       "      <td>2019-11-05 19:54:48.000 +0000</td>\n",
       "      <td>10.0</td>\n",
       "      <td>2019-04-29 04:00:00.000 +0000</td>\n",
       "      <td>2019-11-18 05:00:00.000 +0000</td>\n",
       "      <td>True</td>\n",
       "      <td>...</td>\n",
       "      <td>2019-04-15 00:00:00.000 +0000</td>\n",
       "      <td>Monthly</td>\n",
       "      <td>Monthly</td>\n",
       "      <td>sub_E3cpvGPbhWYXL9</td>\n",
       "      <td>si_E3cpsucoXGLgRq</td>\n",
       "      <td>addon_catering_store_monthly</td>\n",
       "      <td>1</td>\n",
       "      <td>139.0</td>\n",
       "      <td>2018-11-28 16:07:31.000 +0000</td>\n",
       "      <td>NaN</td>\n",
       "    </tr>\n",
       "    <tr>\n",
       "      <th>1</th>\n",
       "      <td>NaN</td>\n",
       "      <td>73.0</td>\n",
       "      <td>2019-11-08 00:31:00.000 +0000</td>\n",
       "      <td>Good</td>\n",
       "      <td>neutral</td>\n",
       "      <td>2019-11-05 19:54:48.000 +0000</td>\n",
       "      <td>10.0</td>\n",
       "      <td>2019-04-29 04:00:00.000 +0000</td>\n",
       "      <td>2019-11-18 05:00:00.000 +0000</td>\n",
       "      <td>True</td>\n",
       "      <td>...</td>\n",
       "      <td>2019-04-15 00:00:00.000 +0000</td>\n",
       "      <td>Monthly</td>\n",
       "      <td>Monthly</td>\n",
       "      <td>sub_E3cpvGPbhWYXL9</td>\n",
       "      <td>si_E3cpSjCw4yRknW</td>\n",
       "      <td>base_plus_monthly</td>\n",
       "      <td>1</td>\n",
       "      <td>199.0</td>\n",
       "      <td>2018-11-28 16:07:31.000 +0000</td>\n",
       "      <td>NaN</td>\n",
       "    </tr>\n",
       "    <tr>\n",
       "      <th>2</th>\n",
       "      <td>NaN</td>\n",
       "      <td>50.0</td>\n",
       "      <td>2019-11-08 00:31:00.000 +0000</td>\n",
       "      <td>Neutral</td>\n",
       "      <td>NaN</td>\n",
       "      <td>NaN</td>\n",
       "      <td>NaN</td>\n",
       "      <td>NaN</td>\n",
       "      <td>2019-11-18 05:00:00.000 +0000</td>\n",
       "      <td>False</td>\n",
       "      <td>...</td>\n",
       "      <td>2016-10-31 00:00:00.000 +0000</td>\n",
       "      <td>Monthly</td>\n",
       "      <td>Monthly</td>\n",
       "      <td>sub_9OtLNjGdGik2ge</td>\n",
       "      <td>si_FkYuZKZWOAhqdC</td>\n",
       "      <td>base_plus_monthly</td>\n",
       "      <td>1</td>\n",
       "      <td>199.0</td>\n",
       "      <td>2019-09-04 19:05:07.000 +0000</td>\n",
       "      <td>NaN</td>\n",
       "    </tr>\n",
       "    <tr>\n",
       "      <th>3</th>\n",
       "      <td>NaN</td>\n",
       "      <td>50.0</td>\n",
       "      <td>2019-11-08 00:31:00.000 +0000</td>\n",
       "      <td>Neutral</td>\n",
       "      <td>NaN</td>\n",
       "      <td>NaN</td>\n",
       "      <td>NaN</td>\n",
       "      <td>NaN</td>\n",
       "      <td>2019-11-18 05:00:00.000 +0000</td>\n",
       "      <td>False</td>\n",
       "      <td>...</td>\n",
       "      <td>2016-10-31 00:00:00.000 +0000</td>\n",
       "      <td>Monthly</td>\n",
       "      <td>Monthly</td>\n",
       "      <td>sub_9OtLNjGdGik2ge</td>\n",
       "      <td>si_1965Ys2vS2BuzRKbWsoEErwQ</td>\n",
       "      <td>baby</td>\n",
       "      <td>1</td>\n",
       "      <td>99.0</td>\n",
       "      <td>2016-10-18 21:55:55.000 +0000</td>\n",
       "      <td>2019-09-18 21:55:54.000 -0700</td>\n",
       "    </tr>\n",
       "    <tr>\n",
       "      <th>4</th>\n",
       "      <td>NaN</td>\n",
       "      <td>86.0</td>\n",
       "      <td>2019-11-08 00:31:00.000 +0000</td>\n",
       "      <td>Good</td>\n",
       "      <td>neutral</td>\n",
       "      <td>2019-07-29 17:01:59.000 +0000</td>\n",
       "      <td>NaN</td>\n",
       "      <td>NaN</td>\n",
       "      <td>2019-07-24 04:00:00.000 +0000</td>\n",
       "      <td>True</td>\n",
       "      <td>...</td>\n",
       "      <td>2017-10-24 00:00:00.000 +0000</td>\n",
       "      <td>Monthly</td>\n",
       "      <td>Monthly</td>\n",
       "      <td>sub_BGEa6oquQ3Wrhh</td>\n",
       "      <td>si_1Ati6w2vS2BuzRKbP1djq3kT</td>\n",
       "      <td>plus</td>\n",
       "      <td>1</td>\n",
       "      <td>199.0</td>\n",
       "      <td>2017-08-22 19:32:26.000 +0000</td>\n",
       "      <td>NaN</td>\n",
       "    </tr>\n",
       "  </tbody>\n",
       "</table>\n",
       "<p>5 rows × 46 columns</p>\n",
       "</div>"
      ],
      "text/plain": [
       "  CHURN_DATE  HEALTH_SCORE      HEALTH_SCORE_UPDATED_DATE  \\\n",
       "0        NaN          73.0  2019-11-08 00:31:00.000 +0000   \n",
       "1        NaN          73.0  2019-11-08 00:31:00.000 +0000   \n",
       "2        NaN          50.0  2019-11-08 00:31:00.000 +0000   \n",
       "3        NaN          50.0  2019-11-08 00:31:00.000 +0000   \n",
       "4        NaN          86.0  2019-11-08 00:31:00.000 +0000   \n",
       "\n",
       "  RELATIONSHIP_STRENGTH SENTIMENT       LAST_ZENDESK_TICKET_DATE  NPS_SCORE  \\\n",
       "0                  Good   neutral  2019-11-05 19:54:48.000 +0000       10.0   \n",
       "1                  Good   neutral  2019-11-05 19:54:48.000 +0000       10.0   \n",
       "2               Neutral       NaN                            NaN        NaN   \n",
       "3               Neutral       NaN                            NaN        NaN   \n",
       "4                  Good   neutral  2019-07-29 17:01:59.000 +0000        NaN   \n",
       "\n",
       "                  NPS_SCORE_DATE                     LAST_LOGIN  IS_EDITED  \\\n",
       "0  2019-04-29 04:00:00.000 +0000  2019-11-18 05:00:00.000 +0000       True   \n",
       "1  2019-04-29 04:00:00.000 +0000  2019-11-18 05:00:00.000 +0000       True   \n",
       "2                            NaN  2019-11-18 05:00:00.000 +0000      False   \n",
       "3                            NaN  2019-11-18 05:00:00.000 +0000      False   \n",
       "4                            NaN  2019-07-24 04:00:00.000 +0000       True   \n",
       "\n",
       "   ...                    LAUNCH_DATE  PAYMENT_PLAN  FREQUENCY  \\\n",
       "0  ...  2019-04-15 00:00:00.000 +0000       Monthly    Monthly   \n",
       "1  ...  2019-04-15 00:00:00.000 +0000       Monthly    Monthly   \n",
       "2  ...  2016-10-31 00:00:00.000 +0000       Monthly    Monthly   \n",
       "3  ...  2016-10-31 00:00:00.000 +0000       Monthly    Monthly   \n",
       "4  ...  2017-10-24 00:00:00.000 +0000       Monthly    Monthly   \n",
       "\n",
       "      SUBSCRIPTION_ID         SUBSCRIPTION_ITEM_ID  \\\n",
       "0  sub_E3cpvGPbhWYXL9            si_E3cpsucoXGLgRq   \n",
       "1  sub_E3cpvGPbhWYXL9            si_E3cpSjCw4yRknW   \n",
       "2  sub_9OtLNjGdGik2ge            si_FkYuZKZWOAhqdC   \n",
       "3  sub_9OtLNjGdGik2ge  si_1965Ys2vS2BuzRKbWsoEErwQ   \n",
       "4  sub_BGEa6oquQ3Wrhh  si_1Ati6w2vS2BuzRKbP1djq3kT   \n",
       "\n",
       "                     PRODUCT_ID PRODUCT_QUANTITY PRODUCT_PRICE  \\\n",
       "0  addon_catering_store_monthly                1         139.0   \n",
       "1             base_plus_monthly                1         199.0   \n",
       "2             base_plus_monthly                1         199.0   \n",
       "3                          baby                1          99.0   \n",
       "4                          plus                1         199.0   \n",
       "\n",
       "                      START_DATE                       END_DATE  \n",
       "0  2018-11-28 16:07:31.000 +0000                            NaN  \n",
       "1  2018-11-28 16:07:31.000 +0000                            NaN  \n",
       "2  2019-09-04 19:05:07.000 +0000                            NaN  \n",
       "3  2016-10-18 21:55:55.000 +0000  2019-09-18 21:55:54.000 -0700  \n",
       "4  2017-08-22 19:32:26.000 +0000                            NaN  \n",
       "\n",
       "[5 rows x 46 columns]"
      ]
     },
     "execution_count": 9,
     "metadata": {},
     "output_type": "execute_result"
    }
   ],
   "source": [
    "# Current \"dirty\" data\n",
    "raw_data.head(5)"
   ]
  },
  {
   "cell_type": "code",
   "execution_count": 10,
   "metadata": {},
   "outputs": [
    {
     "data": {
      "text/plain": [
       "CHURN_DATE                           160\n",
       "HEALTH_SCORE                        4538\n",
       "HEALTH_SCORE_UPDATED_DATE           4875\n",
       "RELATIONSHIP_STRENGTH               4993\n",
       "SENTIMENT                           1778\n",
       "LAST_ZENDESK_TICKET_DATE            2404\n",
       "NPS_SCORE                            950\n",
       "NPS_SCORE_DATE                       942\n",
       "LAST_LOGIN                          4919\n",
       "IS_EDITED                           5814\n",
       "IS_DELINQUENT                       5814\n",
       "IS_CONCEPT                          5814\n",
       "NUMBER_OF_CONCEPTS                  2442\n",
       "NUMBER_OF_LOCATIONS                 5636\n",
       "ANNUAL_REVENUE                      4954\n",
       "ANNUAL_HOSPITALITY_GROUP_REVENUE    5814\n",
       "PARTNERSHIP                         1878\n",
       "BILLING_CITY                        5795\n",
       "BILLING_COUNTRY                     5810\n",
       "BILLING_STATE                       5777\n",
       "BUSINESS_MARKET                     4115\n",
       "BUSINESS_TYPE                       5793\n",
       "SERVICE_STYLE                       5790\n",
       "NEW_OR_EXISTING                     5790\n",
       "CUISINE                             5792\n",
       "INTERESTED_IN_CATERING_STORE        5814\n",
       "INTERESTED_IN_ECOMMERCE             5814\n",
       "INTERESTED_IN_GIFT_CARDS            5814\n",
       "INTERESTED_IN_MENU_MANAGEMENT       5814\n",
       "INTERESTED_IN_MOBILE_WEB            5814\n",
       "INTERESTED_IN_SEO                   5814\n",
       "CREATED_DATE                        5814\n",
       "CUSTOMER_SINCE                      5804\n",
       "CUSTOMER_WON_DATE                   5804\n",
       "DATE_OF_FIRST_OPPORTUNITY           5814\n",
       "LAST_EDIT                           4185\n",
       "LAUNCH_DATE                         4644\n",
       "PAYMENT_PLAN                        5531\n",
       "FREQUENCY                           5814\n",
       "SUBSCRIPTION_ID                     5814\n",
       "SUBSCRIPTION_ITEM_ID                5804\n",
       "PRODUCT_ID                          5814\n",
       "PRODUCT_QUANTITY                    5814\n",
       "PRODUCT_PRICE                       5814\n",
       "START_DATE                          5814\n",
       "END_DATE                             406\n",
       "dtype: int64"
      ]
     },
     "execution_count": 10,
     "metadata": {},
     "output_type": "execute_result"
    }
   ],
   "source": [
    "raw_data.count()"
   ]
  },
  {
   "cell_type": "markdown",
   "metadata": {},
   "source": [
    "### Filtered columns\n",
    "\n",
    "The following dataset concatenates duplicate clients and filters in only the columns we'll use for prototype.\n",
    "\n",
    "In a live environment, these actions can be performed programmatically."
   ]
  },
  {
   "cell_type": "code",
   "execution_count": 11,
   "metadata": {},
   "outputs": [],
   "source": [
    "filtered_data = pd.read_csv('./datasets/sample-filtered-data.csv')"
   ]
  },
  {
   "cell_type": "code",
   "execution_count": 12,
   "metadata": {},
   "outputs": [
    {
     "data": {
      "text/html": [
       "<div>\n",
       "<style scoped>\n",
       "    .dataframe tbody tr th:only-of-type {\n",
       "        vertical-align: middle;\n",
       "    }\n",
       "\n",
       "    .dataframe tbody tr th {\n",
       "        vertical-align: top;\n",
       "    }\n",
       "\n",
       "    .dataframe thead th {\n",
       "        text-align: right;\n",
       "    }\n",
       "</style>\n",
       "<table border=\"1\" class=\"dataframe\">\n",
       "  <thead>\n",
       "    <tr style=\"text-align: right;\">\n",
       "      <th></th>\n",
       "      <th>SUBSCRIPTION_ID</th>\n",
       "      <th>RELATIONSHIP_STRENGTH</th>\n",
       "      <th>SENTIMENT</th>\n",
       "      <th>NPS_SCORE</th>\n",
       "      <th>IS_DELINQUENT</th>\n",
       "      <th>NUMBER_OF_LOCATIONS</th>\n",
       "      <th>ANNUAL_REVENUE</th>\n",
       "      <th>PARTNERSHIP</th>\n",
       "      <th>BILLING_CITY</th>\n",
       "      <th>BUSINESS_TYPE</th>\n",
       "      <th>CUISINE</th>\n",
       "      <th>PAYMENT_PLAN</th>\n",
       "      <th>CHURN_DATE</th>\n",
       "    </tr>\n",
       "  </thead>\n",
       "  <tbody>\n",
       "    <tr>\n",
       "      <th>0</th>\n",
       "      <td>sub_E3cpvGPbhWYXL9</td>\n",
       "      <td>Good</td>\n",
       "      <td>neutral</td>\n",
       "      <td>10.0</td>\n",
       "      <td>False</td>\n",
       "      <td>1.0</td>\n",
       "      <td>4056.0</td>\n",
       "      <td>NaN</td>\n",
       "      <td>Philadelphia</td>\n",
       "      <td>Restaurant</td>\n",
       "      <td>American (Traditional)</td>\n",
       "      <td>Monthly</td>\n",
       "      <td>NaN</td>\n",
       "    </tr>\n",
       "    <tr>\n",
       "      <th>1</th>\n",
       "      <td>sub_9OtLNjGdGik2ge</td>\n",
       "      <td>Neutral</td>\n",
       "      <td>NaN</td>\n",
       "      <td>NaN</td>\n",
       "      <td>False</td>\n",
       "      <td>1.0</td>\n",
       "      <td>1188.0</td>\n",
       "      <td>NaN</td>\n",
       "      <td>New York</td>\n",
       "      <td>Restaurant</td>\n",
       "      <td>American (New)</td>\n",
       "      <td>Monthly</td>\n",
       "      <td>NaN</td>\n",
       "    </tr>\n",
       "    <tr>\n",
       "      <th>2</th>\n",
       "      <td>sub_BGEa6oquQ3Wrhh</td>\n",
       "      <td>Good</td>\n",
       "      <td>neutral</td>\n",
       "      <td>NaN</td>\n",
       "      <td>False</td>\n",
       "      <td>1.0</td>\n",
       "      <td>1908.0</td>\n",
       "      <td>US Foods</td>\n",
       "      <td>South Bend</td>\n",
       "      <td>Restaurant</td>\n",
       "      <td>American (Traditional)</td>\n",
       "      <td>Monthly</td>\n",
       "      <td>NaN</td>\n",
       "    </tr>\n",
       "    <tr>\n",
       "      <th>3</th>\n",
       "      <td>sub_EtPCVOt1zlHjQj</td>\n",
       "      <td>Good</td>\n",
       "      <td>NaN</td>\n",
       "      <td>NaN</td>\n",
       "      <td>False</td>\n",
       "      <td>1.0</td>\n",
       "      <td>1188.0</td>\n",
       "      <td>US Foods</td>\n",
       "      <td>Walhalla</td>\n",
       "      <td>Restaurant</td>\n",
       "      <td>[\"Diner\",\"Sandwiches\",\"American\",\"Frozen Yogur...</td>\n",
       "      <td>NaN</td>\n",
       "      <td>NaN</td>\n",
       "    </tr>\n",
       "    <tr>\n",
       "      <th>4</th>\n",
       "      <td>sub_EWvgOoZikMZEzh</td>\n",
       "      <td>Neutral</td>\n",
       "      <td>neutral</td>\n",
       "      <td>NaN</td>\n",
       "      <td>False</td>\n",
       "      <td>3.0</td>\n",
       "      <td>2388.0</td>\n",
       "      <td>NaN</td>\n",
       "      <td>Vancouver</td>\n",
       "      <td>Restaurant</td>\n",
       "      <td>Other</td>\n",
       "      <td>Monthly</td>\n",
       "      <td>NaN</td>\n",
       "    </tr>\n",
       "  </tbody>\n",
       "</table>\n",
       "</div>"
      ],
      "text/plain": [
       "      SUBSCRIPTION_ID RELATIONSHIP_STRENGTH SENTIMENT  NPS_SCORE  \\\n",
       "0  sub_E3cpvGPbhWYXL9                  Good   neutral       10.0   \n",
       "1  sub_9OtLNjGdGik2ge               Neutral       NaN        NaN   \n",
       "2  sub_BGEa6oquQ3Wrhh                  Good   neutral        NaN   \n",
       "3  sub_EtPCVOt1zlHjQj                  Good       NaN        NaN   \n",
       "4  sub_EWvgOoZikMZEzh               Neutral   neutral        NaN   \n",
       "\n",
       "   IS_DELINQUENT  NUMBER_OF_LOCATIONS  ANNUAL_REVENUE PARTNERSHIP  \\\n",
       "0          False                  1.0          4056.0         NaN   \n",
       "1          False                  1.0          1188.0         NaN   \n",
       "2          False                  1.0          1908.0    US Foods   \n",
       "3          False                  1.0          1188.0    US Foods   \n",
       "4          False                  3.0          2388.0         NaN   \n",
       "\n",
       "   BILLING_CITY BUSINESS_TYPE  \\\n",
       "0  Philadelphia    Restaurant   \n",
       "1      New York    Restaurant   \n",
       "2    South Bend    Restaurant   \n",
       "3      Walhalla    Restaurant   \n",
       "4     Vancouver    Restaurant   \n",
       "\n",
       "                                             CUISINE PAYMENT_PLAN CHURN_DATE  \n",
       "0                             American (Traditional)      Monthly        NaN  \n",
       "1                                     American (New)      Monthly        NaN  \n",
       "2                             American (Traditional)      Monthly        NaN  \n",
       "3  [\"Diner\",\"Sandwiches\",\"American\",\"Frozen Yogur...          NaN        NaN  \n",
       "4                                              Other      Monthly        NaN  "
      ]
     },
     "execution_count": 12,
     "metadata": {},
     "output_type": "execute_result"
    }
   ],
   "source": [
    "filtered_data.head(5)"
   ]
  },
  {
   "cell_type": "code",
   "execution_count": 13,
   "metadata": {},
   "outputs": [
    {
     "data": {
      "text/plain": [
       "SUBSCRIPTION_ID          4638\n",
       "RELATIONSHIP_STRENGTH    4019\n",
       "SENTIMENT                1363\n",
       "NPS_SCORE                 731\n",
       "IS_DELINQUENT            4638\n",
       "NUMBER_OF_LOCATIONS      4498\n",
       "ANNUAL_REVENUE           3972\n",
       "PARTNERSHIP              1645\n",
       "BILLING_CITY             4621\n",
       "BUSINESS_TYPE            4621\n",
       "CUISINE                  4619\n",
       "PAYMENT_PLAN             4473\n",
       "CHURN_DATE                 96\n",
       "dtype: int64"
      ]
     },
     "execution_count": 13,
     "metadata": {},
     "output_type": "execute_result"
    }
   ],
   "source": [
    "filtered_data.count()"
   ]
  },
  {
   "cell_type": "markdown",
   "metadata": {},
   "source": [
    "### Further cleaning"
   ]
  },
  {
   "cell_type": "code",
   "execution_count": 14,
   "metadata": {},
   "outputs": [],
   "source": [
    "current_data = pd.DataFrame(filtered_data).copy(deep=True) "
   ]
  },
  {
   "cell_type": "code",
   "execution_count": 15,
   "metadata": {},
   "outputs": [
    {
     "name": "stdout",
     "output_type": "stream",
     "text": [
      "['SUBSCRIPTION_ID' 'RELATIONSHIP_STRENGTH' 'SENTIMENT' 'NPS_SCORE'\n",
      " 'IS_DELINQUENT' 'NUMBER_OF_LOCATIONS' 'ANNUAL_REVENUE' 'PARTNERSHIP'\n",
      " 'BILLING_CITY' 'BUSINESS_TYPE' 'CUISINE' 'PAYMENT_PLAN' 'CHURN_DATE']\n"
     ]
    }
   ],
   "source": [
    "# Show column names\n",
    "print(current_data.columns.values)"
   ]
  },
  {
   "cell_type": "markdown",
   "metadata": {},
   "source": [
    "#### Set the index"
   ]
  },
  {
   "cell_type": "code",
   "execution_count": 16,
   "metadata": {},
   "outputs": [],
   "source": [
    "current_data = current_data.set_index('SUBSCRIPTION_ID')"
   ]
  },
  {
   "cell_type": "markdown",
   "metadata": {},
   "source": [
    "#### Handle string transformations"
   ]
  },
  {
   "cell_type": "code",
   "execution_count": 17,
   "metadata": {},
   "outputs": [],
   "source": [
    "import re"
   ]
  },
  {
   "cell_type": "code",
   "execution_count": 18,
   "metadata": {},
   "outputs": [],
   "source": [
    "def clean_string(x):\n",
    "    def convert_letters(x):\n",
    "        subbed_commas = re.sub(',', ' ', x)\n",
    "        subbed_non_alpha = re.sub(r'([^\\s\\w]|_)+', '', subbed_commas)\n",
    "        return subbed_non_alpha\n",
    "\n",
    "    if isinstance(x, str):\n",
    "        return convert_letters(x).strip().lower()\n",
    "    \n",
    "    return x"
   ]
  },
  {
   "cell_type": "code",
   "execution_count": 19,
   "metadata": {},
   "outputs": [],
   "source": [
    "def clean_and_get_first_two_words(x):\n",
    "    if isinstance(x, str):\n",
    "        splitted = clean_string(x).split()\n",
    "\n",
    "        first = splitted[0]\n",
    "\n",
    "        try:\n",
    "            second = splitted[1]\n",
    "            return '{} {}'.format(first, second)\n",
    "        except:\n",
    "            return first\n",
    "    \n",
    "    return x"
   ]
  },
  {
   "cell_type": "code",
   "execution_count": 20,
   "metadata": {},
   "outputs": [],
   "source": [
    "current_data['BILLING_CITY'] = current_data['BILLING_CITY'].apply(clean_string)"
   ]
  },
  {
   "cell_type": "code",
   "execution_count": 21,
   "metadata": {},
   "outputs": [],
   "source": [
    "current_data['PAYMENT_PLAN'] = current_data['PAYMENT_PLAN'].apply(clean_string)"
   ]
  },
  {
   "cell_type": "code",
   "execution_count": 22,
   "metadata": {},
   "outputs": [],
   "source": [
    "current_data['PARTNERSHIP'] = current_data['PARTNERSHIP'].apply(clean_string)"
   ]
  },
  {
   "cell_type": "code",
   "execution_count": 23,
   "metadata": {},
   "outputs": [],
   "source": [
    "current_data['BUSINESS_TYPE'] = current_data['BUSINESS_TYPE'].apply(clean_and_get_first_two_words)"
   ]
  },
  {
   "cell_type": "code",
   "execution_count": 24,
   "metadata": {},
   "outputs": [],
   "source": [
    "current_data['CUISINE'] = current_data['CUISINE'].apply(clean_and_get_first_two_words)"
   ]
  },
  {
   "cell_type": "code",
   "execution_count": 25,
   "metadata": {},
   "outputs": [],
   "source": [
    "current_data = pd.get_dummies(\n",
    "    current_data, \n",
    "    columns=['BILLING_CITY', 'BUSINESS_TYPE', 'CUISINE', 'PAYMENT_PLAN', 'PARTNERSHIP']\n",
    ")"
   ]
  },
  {
   "cell_type": "markdown",
   "metadata": {},
   "source": [
    "#### Handle the \"feelings\" columns"
   ]
  },
  {
   "cell_type": "code",
   "execution_count": 26,
   "metadata": {},
   "outputs": [],
   "source": [
    "def handle_feelings(x):\n",
    "    cleaned = clean_string(x)\n",
    "    if cleaned == 'good' or cleaned == 'positive':\n",
    "        return 1.0\n",
    "    if cleaned == 'neutral':\n",
    "        return 0.0\n",
    "    if cleaned == 'bad' or cleaned == 'negative':\n",
    "        return -1.0\n",
    "    return None"
   ]
  },
  {
   "cell_type": "code",
   "execution_count": 27,
   "metadata": {},
   "outputs": [],
   "source": [
    "current_data['RELATIONSHIP_STRENGTH'] = current_data['RELATIONSHIP_STRENGTH'].apply(handle_feelings)"
   ]
  },
  {
   "cell_type": "code",
   "execution_count": 28,
   "metadata": {},
   "outputs": [],
   "source": [
    "current_data['SENTIMENT'] = current_data['SENTIMENT'].apply(handle_feelings)"
   ]
  },
  {
   "cell_type": "code",
   "execution_count": 29,
   "metadata": {},
   "outputs": [],
   "source": [
    "current_data = pd.get_dummies(current_data, columns=['RELATIONSHIP_STRENGTH', 'SENTIMENT'])"
   ]
  },
  {
   "cell_type": "markdown",
   "metadata": {},
   "source": [
    "#### Normalize the scalar columns"
   ]
  },
  {
   "cell_type": "code",
   "execution_count": 30,
   "metadata": {},
   "outputs": [],
   "source": [
    "def normalize(df):\n",
    "    return (df - df.mean()) / df.std()"
   ]
  },
  {
   "cell_type": "code",
   "execution_count": 31,
   "metadata": {},
   "outputs": [],
   "source": [
    "current_data['NPS_SCORE'] = normalize(current_data['NPS_SCORE'])"
   ]
  },
  {
   "cell_type": "code",
   "execution_count": 32,
   "metadata": {},
   "outputs": [],
   "source": [
    "current_data['NUMBER_OF_LOCATIONS'] = normalize(current_data['NUMBER_OF_LOCATIONS'])"
   ]
  },
  {
   "cell_type": "code",
   "execution_count": 33,
   "metadata": {},
   "outputs": [],
   "source": [
    "current_data['ANNUAL_REVENUE'] = normalize(current_data['ANNUAL_REVENUE'])"
   ]
  },
  {
   "cell_type": "markdown",
   "metadata": {},
   "source": [
    "#### Handle misc transformations"
   ]
  },
  {
   "cell_type": "code",
   "execution_count": 34,
   "metadata": {},
   "outputs": [],
   "source": [
    "# Inverting the following value, so as to remain parallel with the other colums' \"Higher == Good, Lower == Bad\" theme\n",
    "current_data = current_data.rename(columns={'IS_DELINQUENT': 'IS_CURRENT'})"
   ]
  },
  {
   "cell_type": "code",
   "execution_count": 35,
   "metadata": {},
   "outputs": [],
   "source": [
    "def handle_bools(x):\n",
    "    if x == True:\n",
    "        return 1.0\n",
    "    if x == False:\n",
    "        return 0.0\n",
    "    return x"
   ]
  },
  {
   "cell_type": "code",
   "execution_count": 36,
   "metadata": {},
   "outputs": [],
   "source": [
    "current_data['IS_CURRENT'] = current_data['IS_CURRENT'].apply(handle_bools)"
   ]
  },
  {
   "cell_type": "markdown",
   "metadata": {},
   "source": [
    "#### Handle the prediction value"
   ]
  },
  {
   "cell_type": "code",
   "execution_count": 37,
   "metadata": {},
   "outputs": [],
   "source": [
    "# Because we're running a regression, we need to convert \"churn date\" to likelihood of cancellation\", \n",
    "#     i.e. a percentage value\n",
    "# Also, because most of the feature values are \"Higher == Good, Lower == Bad\", we should invert this\n",
    "#     field as well\n",
    "current_data = current_data.rename(columns={'CHURN_DATE': 'HAPPINESS_SCORE'})"
   ]
  },
  {
   "cell_type": "code",
   "execution_count": 38,
   "metadata": {},
   "outputs": [],
   "source": [
    "def handle_churn_date(x):\n",
    "    if pd.isnull(x):\n",
    "        return 1\n",
    "    return 0"
   ]
  },
  {
   "cell_type": "code",
   "execution_count": 39,
   "metadata": {},
   "outputs": [],
   "source": [
    "current_data['HAPPINESS_SCORE'] = current_data['HAPPINESS_SCORE'].apply(handle_churn_date)"
   ]
  },
  {
   "cell_type": "markdown",
   "metadata": {},
   "source": [
    "#### Handle NaNs"
   ]
  },
  {
   "cell_type": "code",
   "execution_count": 40,
   "metadata": {},
   "outputs": [],
   "source": [
    "current_data = current_data.fillna(0)"
   ]
  },
  {
   "cell_type": "markdown",
   "metadata": {},
   "source": [
    "### Final Dataset to process"
   ]
  },
  {
   "cell_type": "code",
   "execution_count": 41,
   "metadata": {},
   "outputs": [],
   "source": [
    "dataset = pd.DataFrame(current_data).copy(deep=True) "
   ]
  },
  {
   "cell_type": "code",
   "execution_count": 42,
   "metadata": {},
   "outputs": [
    {
     "data": {
      "text/html": [
       "<div>\n",
       "<style scoped>\n",
       "    .dataframe tbody tr th:only-of-type {\n",
       "        vertical-align: middle;\n",
       "    }\n",
       "\n",
       "    .dataframe tbody tr th {\n",
       "        vertical-align: top;\n",
       "    }\n",
       "\n",
       "    .dataframe thead th {\n",
       "        text-align: right;\n",
       "    }\n",
       "</style>\n",
       "<table border=\"1\" class=\"dataframe\">\n",
       "  <thead>\n",
       "    <tr style=\"text-align: right;\">\n",
       "      <th></th>\n",
       "      <th>NPS_SCORE</th>\n",
       "      <th>IS_CURRENT</th>\n",
       "      <th>NUMBER_OF_LOCATIONS</th>\n",
       "      <th>ANNUAL_REVENUE</th>\n",
       "      <th>HAPPINESS_SCORE</th>\n",
       "      <th>BILLING_CITY_33037</th>\n",
       "      <th>BILLING_CITY_98101</th>\n",
       "      <th>BILLING_CITY_abilene</th>\n",
       "      <th>BILLING_CITY_accokeek</th>\n",
       "      <th>BILLING_CITY_acton</th>\n",
       "      <th>...</th>\n",
       "      <th>PARTNERSHIP_resy</th>\n",
       "      <th>PARTNERSHIP_rsi</th>\n",
       "      <th>PARTNERSHIP_square</th>\n",
       "      <th>PARTNERSHIP_us foods</th>\n",
       "      <th>RELATIONSHIP_STRENGTH_-1.0</th>\n",
       "      <th>RELATIONSHIP_STRENGTH_0.0</th>\n",
       "      <th>RELATIONSHIP_STRENGTH_1.0</th>\n",
       "      <th>SENTIMENT_-1.0</th>\n",
       "      <th>SENTIMENT_0.0</th>\n",
       "      <th>SENTIMENT_1.0</th>\n",
       "    </tr>\n",
       "    <tr>\n",
       "      <th>SUBSCRIPTION_ID</th>\n",
       "      <th></th>\n",
       "      <th></th>\n",
       "      <th></th>\n",
       "      <th></th>\n",
       "      <th></th>\n",
       "      <th></th>\n",
       "      <th></th>\n",
       "      <th></th>\n",
       "      <th></th>\n",
       "      <th></th>\n",
       "      <th></th>\n",
       "      <th></th>\n",
       "      <th></th>\n",
       "      <th></th>\n",
       "      <th></th>\n",
       "      <th></th>\n",
       "      <th></th>\n",
       "      <th></th>\n",
       "      <th></th>\n",
       "      <th></th>\n",
       "      <th></th>\n",
       "    </tr>\n",
       "  </thead>\n",
       "  <tbody>\n",
       "    <tr>\n",
       "      <th>sub_E3cpvGPbhWYXL9</th>\n",
       "      <td>0.650948</td>\n",
       "      <td>0.0</td>\n",
       "      <td>-0.24905</td>\n",
       "      <td>1.811271</td>\n",
       "      <td>1</td>\n",
       "      <td>0</td>\n",
       "      <td>0</td>\n",
       "      <td>0</td>\n",
       "      <td>0</td>\n",
       "      <td>0</td>\n",
       "      <td>...</td>\n",
       "      <td>0</td>\n",
       "      <td>0</td>\n",
       "      <td>0</td>\n",
       "      <td>0</td>\n",
       "      <td>0</td>\n",
       "      <td>0</td>\n",
       "      <td>1</td>\n",
       "      <td>0</td>\n",
       "      <td>1</td>\n",
       "      <td>0</td>\n",
       "    </tr>\n",
       "    <tr>\n",
       "      <th>sub_9OtLNjGdGik2ge</th>\n",
       "      <td>0.000000</td>\n",
       "      <td>0.0</td>\n",
       "      <td>-0.24905</td>\n",
       "      <td>-0.750732</td>\n",
       "      <td>1</td>\n",
       "      <td>0</td>\n",
       "      <td>0</td>\n",
       "      <td>0</td>\n",
       "      <td>0</td>\n",
       "      <td>0</td>\n",
       "      <td>...</td>\n",
       "      <td>0</td>\n",
       "      <td>0</td>\n",
       "      <td>0</td>\n",
       "      <td>0</td>\n",
       "      <td>0</td>\n",
       "      <td>1</td>\n",
       "      <td>0</td>\n",
       "      <td>0</td>\n",
       "      <td>0</td>\n",
       "      <td>0</td>\n",
       "    </tr>\n",
       "    <tr>\n",
       "      <th>sub_BGEa6oquQ3Wrhh</th>\n",
       "      <td>0.000000</td>\n",
       "      <td>0.0</td>\n",
       "      <td>-0.24905</td>\n",
       "      <td>-0.107551</td>\n",
       "      <td>1</td>\n",
       "      <td>0</td>\n",
       "      <td>0</td>\n",
       "      <td>0</td>\n",
       "      <td>0</td>\n",
       "      <td>0</td>\n",
       "      <td>...</td>\n",
       "      <td>0</td>\n",
       "      <td>0</td>\n",
       "      <td>0</td>\n",
       "      <td>1</td>\n",
       "      <td>0</td>\n",
       "      <td>0</td>\n",
       "      <td>1</td>\n",
       "      <td>0</td>\n",
       "      <td>1</td>\n",
       "      <td>0</td>\n",
       "    </tr>\n",
       "    <tr>\n",
       "      <th>sub_EtPCVOt1zlHjQj</th>\n",
       "      <td>0.000000</td>\n",
       "      <td>0.0</td>\n",
       "      <td>-0.24905</td>\n",
       "      <td>-0.750732</td>\n",
       "      <td>1</td>\n",
       "      <td>0</td>\n",
       "      <td>0</td>\n",
       "      <td>0</td>\n",
       "      <td>0</td>\n",
       "      <td>0</td>\n",
       "      <td>...</td>\n",
       "      <td>0</td>\n",
       "      <td>0</td>\n",
       "      <td>0</td>\n",
       "      <td>1</td>\n",
       "      <td>0</td>\n",
       "      <td>0</td>\n",
       "      <td>1</td>\n",
       "      <td>0</td>\n",
       "      <td>0</td>\n",
       "      <td>0</td>\n",
       "    </tr>\n",
       "    <tr>\n",
       "      <th>sub_EWvgOoZikMZEzh</th>\n",
       "      <td>0.000000</td>\n",
       "      <td>0.0</td>\n",
       "      <td>0.71583</td>\n",
       "      <td>0.321236</td>\n",
       "      <td>1</td>\n",
       "      <td>0</td>\n",
       "      <td>0</td>\n",
       "      <td>0</td>\n",
       "      <td>0</td>\n",
       "      <td>0</td>\n",
       "      <td>...</td>\n",
       "      <td>0</td>\n",
       "      <td>0</td>\n",
       "      <td>0</td>\n",
       "      <td>0</td>\n",
       "      <td>0</td>\n",
       "      <td>1</td>\n",
       "      <td>0</td>\n",
       "      <td>0</td>\n",
       "      <td>1</td>\n",
       "      <td>0</td>\n",
       "    </tr>\n",
       "  </tbody>\n",
       "</table>\n",
       "<p>5 rows × 1867 columns</p>\n",
       "</div>"
      ],
      "text/plain": [
       "                    NPS_SCORE  IS_CURRENT  NUMBER_OF_LOCATIONS  \\\n",
       "SUBSCRIPTION_ID                                                  \n",
       "sub_E3cpvGPbhWYXL9   0.650948         0.0             -0.24905   \n",
       "sub_9OtLNjGdGik2ge   0.000000         0.0             -0.24905   \n",
       "sub_BGEa6oquQ3Wrhh   0.000000         0.0             -0.24905   \n",
       "sub_EtPCVOt1zlHjQj   0.000000         0.0             -0.24905   \n",
       "sub_EWvgOoZikMZEzh   0.000000         0.0              0.71583   \n",
       "\n",
       "                    ANNUAL_REVENUE  HAPPINESS_SCORE  BILLING_CITY_33037  \\\n",
       "SUBSCRIPTION_ID                                                           \n",
       "sub_E3cpvGPbhWYXL9        1.811271                1                   0   \n",
       "sub_9OtLNjGdGik2ge       -0.750732                1                   0   \n",
       "sub_BGEa6oquQ3Wrhh       -0.107551                1                   0   \n",
       "sub_EtPCVOt1zlHjQj       -0.750732                1                   0   \n",
       "sub_EWvgOoZikMZEzh        0.321236                1                   0   \n",
       "\n",
       "                    BILLING_CITY_98101  BILLING_CITY_abilene  \\\n",
       "SUBSCRIPTION_ID                                                \n",
       "sub_E3cpvGPbhWYXL9                   0                     0   \n",
       "sub_9OtLNjGdGik2ge                   0                     0   \n",
       "sub_BGEa6oquQ3Wrhh                   0                     0   \n",
       "sub_EtPCVOt1zlHjQj                   0                     0   \n",
       "sub_EWvgOoZikMZEzh                   0                     0   \n",
       "\n",
       "                    BILLING_CITY_accokeek  BILLING_CITY_acton  ...  \\\n",
       "SUBSCRIPTION_ID                                                ...   \n",
       "sub_E3cpvGPbhWYXL9                      0                   0  ...   \n",
       "sub_9OtLNjGdGik2ge                      0                   0  ...   \n",
       "sub_BGEa6oquQ3Wrhh                      0                   0  ...   \n",
       "sub_EtPCVOt1zlHjQj                      0                   0  ...   \n",
       "sub_EWvgOoZikMZEzh                      0                   0  ...   \n",
       "\n",
       "                    PARTNERSHIP_resy  PARTNERSHIP_rsi  PARTNERSHIP_square  \\\n",
       "SUBSCRIPTION_ID                                                             \n",
       "sub_E3cpvGPbhWYXL9                 0                0                   0   \n",
       "sub_9OtLNjGdGik2ge                 0                0                   0   \n",
       "sub_BGEa6oquQ3Wrhh                 0                0                   0   \n",
       "sub_EtPCVOt1zlHjQj                 0                0                   0   \n",
       "sub_EWvgOoZikMZEzh                 0                0                   0   \n",
       "\n",
       "                    PARTNERSHIP_us foods  RELATIONSHIP_STRENGTH_-1.0  \\\n",
       "SUBSCRIPTION_ID                                                        \n",
       "sub_E3cpvGPbhWYXL9                     0                           0   \n",
       "sub_9OtLNjGdGik2ge                     0                           0   \n",
       "sub_BGEa6oquQ3Wrhh                     1                           0   \n",
       "sub_EtPCVOt1zlHjQj                     1                           0   \n",
       "sub_EWvgOoZikMZEzh                     0                           0   \n",
       "\n",
       "                    RELATIONSHIP_STRENGTH_0.0  RELATIONSHIP_STRENGTH_1.0  \\\n",
       "SUBSCRIPTION_ID                                                            \n",
       "sub_E3cpvGPbhWYXL9                          0                          1   \n",
       "sub_9OtLNjGdGik2ge                          1                          0   \n",
       "sub_BGEa6oquQ3Wrhh                          0                          1   \n",
       "sub_EtPCVOt1zlHjQj                          0                          1   \n",
       "sub_EWvgOoZikMZEzh                          1                          0   \n",
       "\n",
       "                    SENTIMENT_-1.0  SENTIMENT_0.0  SENTIMENT_1.0  \n",
       "SUBSCRIPTION_ID                                                   \n",
       "sub_E3cpvGPbhWYXL9               0              1              0  \n",
       "sub_9OtLNjGdGik2ge               0              0              0  \n",
       "sub_BGEa6oquQ3Wrhh               0              1              0  \n",
       "sub_EtPCVOt1zlHjQj               0              0              0  \n",
       "sub_EWvgOoZikMZEzh               0              1              0  \n",
       "\n",
       "[5 rows x 1867 columns]"
      ]
     },
     "execution_count": 42,
     "metadata": {},
     "output_type": "execute_result"
    }
   ],
   "source": [
    "dataset.head(5)"
   ]
  },
  {
   "cell_type": "code",
   "execution_count": 43,
   "metadata": {},
   "outputs": [
    {
     "name": "stdout",
     "output_type": "stream",
     "text": [
      "<class 'pandas.core.frame.DataFrame'>\n",
      "Index: 4638 entries, sub_E3cpvGPbhWYXL9 to sub_EmYCrnN9rzQ7xU\n",
      "Columns: 1867 entries, NPS_SCORE to SENTIMENT_1.0\n",
      "dtypes: float64(4), int64(1), uint8(1862)\n",
      "memory usage: 8.4+ MB\n",
      "None\n"
     ]
    }
   ],
   "source": [
    "print(dataset.info())"
   ]
  },
  {
   "cell_type": "markdown",
   "metadata": {},
   "source": [
    "## Making a predication\n",
    "---"
   ]
  },
  {
   "cell_type": "markdown",
   "metadata": {},
   "source": [
    "### Splitting the data"
   ]
  },
  {
   "cell_type": "code",
   "execution_count": 45,
   "metadata": {},
   "outputs": [],
   "source": [
    "dataset[\"HAPPINESS_SCORE\"] = dataset[\"HAPPINESS_SCORE\"].astype(int)"
   ]
  },
  {
   "cell_type": "code",
   "execution_count": 46,
   "metadata": {},
   "outputs": [],
   "source": [
    "data_x = dataset.drop(labels = [\"HAPPINESS_SCORE\"],axis = 1)"
   ]
  },
  {
   "cell_type": "code",
   "execution_count": 47,
   "metadata": {},
   "outputs": [],
   "source": [
    "data_y = dataset['HAPPINESS_SCORE'].values"
   ]
  },
  {
   "cell_type": "code",
   "execution_count": 48,
   "metadata": {},
   "outputs": [],
   "source": [
    "from sklearn.model_selection import train_test_split"
   ]
  },
  {
   "cell_type": "code",
   "execution_count": 84,
   "metadata": {},
   "outputs": [],
   "source": [
    "x_train, x_test, y_train, y_test = train_test_split(\n",
    "    data_x, \n",
    "    data_y, \n",
    "    test_size=0.2, \n",
    "    random_state=101,\n",
    ")"
   ]
  },
  {
   "cell_type": "code",
   "execution_count": null,
   "metadata": {},
   "outputs": [],
   "source": []
  },
  {
   "cell_type": "markdown",
   "metadata": {},
   "source": [
    "### Logistic Regression"
   ]
  },
  {
   "cell_type": "code",
   "execution_count": 50,
   "metadata": {},
   "outputs": [],
   "source": [
    "from sklearn.linear_model import LogisticRegression"
   ]
  },
  {
   "cell_type": "code",
   "execution_count": 51,
   "metadata": {},
   "outputs": [],
   "source": [
    "model = LogisticRegression(solver='lbfgs')"
   ]
  },
  {
   "cell_type": "code",
   "execution_count": 77,
   "metadata": {},
   "outputs": [],
   "source": [
    "result = model.fit(x_train, y_train)"
   ]
  },
  {
   "cell_type": "code",
   "execution_count": 80,
   "metadata": {},
   "outputs": [
    {
     "name": "stdout",
     "output_type": "stream",
     "text": [
      "LogisticRegression(C=1.0, class_weight=None, dual=False, fit_intercept=True,\n",
      "                   intercept_scaling=1, l1_ratio=None, max_iter=100,\n",
      "                   multi_class='warn', n_jobs=None, penalty='l2',\n",
      "                   random_state=None, solver='lbfgs', tol=0.0001, verbose=0,\n",
      "                   warm_start=False)\n"
     ]
    }
   ],
   "source": [
    "print(result)"
   ]
  },
  {
   "cell_type": "code",
   "execution_count": null,
   "metadata": {},
   "outputs": [],
   "source": []
  },
  {
   "cell_type": "code",
   "execution_count": null,
   "metadata": {},
   "outputs": [],
   "source": []
  },
  {
   "cell_type": "markdown",
   "metadata": {},
   "source": [
    "### Testing the prediction"
   ]
  },
  {
   "cell_type": "code",
   "execution_count": 53,
   "metadata": {},
   "outputs": [],
   "source": [
    "from sklearn import metrics"
   ]
  },
  {
   "cell_type": "code",
   "execution_count": 54,
   "metadata": {},
   "outputs": [],
   "source": [
    "prediction_test = model.predict(x_test)"
   ]
  },
  {
   "cell_type": "code",
   "execution_count": 55,
   "metadata": {},
   "outputs": [
    {
     "name": "stdout",
     "output_type": "stream",
     "text": [
      "97.0%\n"
     ]
    }
   ],
   "source": [
    "print('{}%'.format(round(metrics.accuracy_score(y_test, prediction_test) * 100)))"
   ]
  },
  {
   "cell_type": "code",
   "execution_count": 68,
   "metadata": {},
   "outputs": [],
   "source": [
    "weights = pd.Series(model.coef_[0])"
   ]
  },
  {
   "cell_type": "code",
   "execution_count": 69,
   "metadata": {},
   "outputs": [
    {
     "data": {
      "text/plain": [
       "1853    2.463294\n",
       "1852    1.914058\n",
       "1629    0.759923\n",
       "1725    0.756618\n",
       "1827    0.740226\n",
       "          ...   \n",
       "1851   -0.994658\n",
       "1      -1.118687\n",
       "279    -1.178399\n",
       "510    -1.275523\n",
       "682    -1.710798\n",
       "Length: 1866, dtype: float64"
      ]
     },
     "execution_count": 69,
     "metadata": {},
     "output_type": "execute_result"
    }
   ],
   "source": [
    "weights.sort_values(ascending = False)"
   ]
  },
  {
   "cell_type": "code",
   "execution_count": null,
   "metadata": {},
   "outputs": [],
   "source": []
  }
 ],
 "metadata": {
  "kernelspec": {
   "display_name": "Python 3",
   "language": "python",
   "name": "python3"
  },
  "language_info": {
   "codemirror_mode": {
    "name": "ipython",
    "version": 3
   },
   "file_extension": ".py",
   "mimetype": "text/x-python",
   "name": "python",
   "nbconvert_exporter": "python",
   "pygments_lexer": "ipython3",
   "version": "3.7.3"
  }
 },
 "nbformat": 4,
 "nbformat_minor": 2
}
